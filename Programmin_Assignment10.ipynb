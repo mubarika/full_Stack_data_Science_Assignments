{
 "cells": [
  {
   "cell_type": "markdown",
   "metadata": {},
   "source": [
    "### 1. Write a Python program to find sum of elements in list?"
   ]
  },
  {
   "cell_type": "code",
   "execution_count": 2,
   "metadata": {},
   "outputs": [
    {
     "name": "stdout",
     "output_type": "stream",
     "text": [
      "How many numbers: 9\n",
      "Enter number 5\n",
      "Enter number 7\n",
      "Enter number 89\n",
      "Enter number 965\n",
      "Enter number 0\n",
      "Enter number 6\n",
      "Enter number 7\n",
      "Enter number 6\n",
      "Enter number 5\n",
      "[5, 7, 89, 965, 0, 6, 7, 6, 5]\n",
      "Sum of elements in given list is : 1090\n"
     ]
    }
   ],
   "source": [
    "lst = []\n",
    "num = int(input('How many numbers: '))\n",
    "for n in range(num):\n",
    "    numbers = int(input('Enter number '))\n",
    "    lst.append(numbers)\n",
    "\n",
    "print(lst)\n",
    "print(\"Sum of elements in given list is :\", sum(lst))"
   ]
  },
  {
   "cell_type": "markdown",
   "metadata": {},
   "source": [
    "### 2. Write a Python program to Multiply all numbers in the list?"
   ]
  },
  {
   "cell_type": "code",
   "execution_count": 5,
   "metadata": {},
   "outputs": [
    {
     "name": "stdout",
     "output_type": "stream",
     "text": [
      "how many elements you want to insert on your list:5\n",
      "Enter the elements:5\n",
      "Enter the elements:4\n",
      "Enter the elements:3\n",
      "Enter the elements:2\n",
      "Enter the elements:1\n",
      "[5, 4, 3, 2, 1]\n",
      "multiplication of the elements of the list [5, 4, 3, 2, 1] is 120\n"
     ]
    }
   ],
   "source": [
    "l = []\n",
    "number = int(input(\"how many elements you want to insert on your list:\"))\n",
    "for n in range(number):\n",
    "    num = int(input(\"Enter the elements:\"))\n",
    "    l.append(num)\n",
    "result = 1    \n",
    "for i in l:\n",
    "    result = result * i\n",
    "print(\"multiplication of the elements of the list\",l,\"is\",result)"
   ]
  },
  {
   "cell_type": "markdown",
   "metadata": {},
   "source": [
    "### 3. Write a Python program to find smallest number in a list?"
   ]
  },
  {
   "cell_type": "code",
   "execution_count": 6,
   "metadata": {},
   "outputs": [
    {
     "name": "stdout",
     "output_type": "stream",
     "text": [
      "how many elements you want to insert on your list:5\n",
      "Enter the elements:7\n",
      "Enter the elements:98\n",
      "Enter the elements:6\n",
      "Enter the elements:5\n",
      "Enter the elements:32\n",
      "The smallest element of the list [7, 98, 6, 5, 32] is 5\n"
     ]
    }
   ],
   "source": [
    "l = []\n",
    "number = int(input(\"how many elements you want to insert on your list:\"))\n",
    "for n in range(number):\n",
    "    num = int(input(\"Enter the elements:\"))\n",
    "    l.append(num)\n",
    "    \n",
    "print(\"The smallest element of the list\", l, \"is\", min(l))\n",
    "        "
   ]
  },
  {
   "cell_type": "markdown",
   "metadata": {},
   "source": [
    "### 4. Write a Python program to find largest number in a list?"
   ]
  },
  {
   "cell_type": "code",
   "execution_count": 7,
   "metadata": {},
   "outputs": [
    {
     "name": "stdout",
     "output_type": "stream",
     "text": [
      "how many elements you want to insert on your list:6\n",
      "Enter the elements:74\n",
      "Enter the elements:67\n",
      "Enter the elements:4\n",
      "Enter the elements:54\n",
      "Enter the elements:2\n",
      "Enter the elements:78\n",
      "The largest element of the list [74, 67, 4, 54, 2, 78] is 78\n"
     ]
    }
   ],
   "source": [
    "l = []\n",
    "number = int(input(\"how many elements you want to insert on your list:\"))\n",
    "for n in range(number):\n",
    "    num = int(input(\"Enter the elements:\"))\n",
    "    l.append(num)\n",
    "    \n",
    "print(\"The largest element of the list\", l, \"is\", max(l))"
   ]
  },
  {
   "cell_type": "markdown",
   "metadata": {},
   "source": [
    "### 5. Write a Python program to find second largest number in a list?"
   ]
  },
  {
   "cell_type": "code",
   "execution_count": 21,
   "metadata": {},
   "outputs": [
    {
     "name": "stdout",
     "output_type": "stream",
     "text": [
      "how many elements you want to insert on your list:5\n",
      "Enter the elements:6\n",
      "Enter the elements:4\n",
      "Enter the elements:54\n",
      "Enter the elements:34\n",
      "Enter the elements:45\n",
      "The second larest element is 45\n"
     ]
    }
   ],
   "source": [
    "l = []\n",
    "l1 = []\n",
    "number = int(input(\"how many elements you want to insert on your list:\"))\n",
    "for n in range(number):\n",
    "    num = int(input(\"Enter the elements:\"))\n",
    "    l.append(num)\n",
    "l.sort()    \n",
    "print(\"The second largest element is\", l[-2])\n"
   ]
  },
  {
   "cell_type": "markdown",
   "metadata": {},
   "source": [
    "### "
   ]
  },
  {
   "cell_type": "markdown",
   "metadata": {},
   "source": [
    "### 6. Write a Python program to find N largest elements from a list?"
   ]
  },
  {
   "cell_type": "code",
   "execution_count": 4,
   "metadata": {},
   "outputs": [
    {
     "name": "stdout",
     "output_type": "stream",
     "text": [
      "how many elements you want to insert on your list:5\n",
      "Enter the elements:34\n",
      "Enter the elements:67\n",
      "Enter the elements:99\n",
      "Enter the elements:89\n",
      "Enter the elements:23\n",
      "how many largest elements you want:3\n",
      "3 largest elements from list [23, 34, 67, 89, 99] is: [67, 89, 99]\n"
     ]
    }
   ],
   "source": [
    "l = []\n",
    "number = int(input(\"how many elements you want to insert on your list:\"))\n",
    "for n in range(number):\n",
    "    num = int(input(\"Enter the elements:\"))\n",
    "    l.append(num)\n",
    "    \n",
    "k =int(input(\"how many largest elements you want:\"))\n",
    "l.sort()\n",
    "print(k,\"largest elements from list\",l,\"is:\",l[k-1:])"
   ]
  },
  {
   "cell_type": "markdown",
   "metadata": {},
   "source": [
    "### 7. Write a Python program to print even numbers in a list?"
   ]
  },
  {
   "cell_type": "code",
   "execution_count": 8,
   "metadata": {},
   "outputs": [
    {
     "name": "stdout",
     "output_type": "stream",
     "text": [
      "how many elements you want to insert on your list:4\n",
      "Enter the elements:22\n",
      "Enter the elements:23\n",
      "Enter the elements:34\n",
      "Enter the elements:11\n",
      "[22, 34]\n"
     ]
    }
   ],
   "source": [
    "l = []\n",
    "number = int(input(\"how many elements you want to insert on your list:\"))\n",
    "for n in range(number):\n",
    "    num = int(input(\"Enter the elements:\"))\n",
    "    l.append(num)\n",
    "l1 = []\n",
    "for i in range(len(l)):\n",
    "    if(l[i] % 2 == 0):\n",
    "        l1.append(l[i])\n",
    "        \n",
    "print(l1)"
   ]
  },
  {
   "cell_type": "markdown",
   "metadata": {},
   "source": [
    "### 8. Write a Python program to print odd numbers in a List?"
   ]
  },
  {
   "cell_type": "code",
   "execution_count": 9,
   "metadata": {},
   "outputs": [
    {
     "name": "stdout",
     "output_type": "stream",
     "text": [
      "how many elements you want to insert on your list:7\n",
      "Enter the elements:98\n",
      "Enter the elements:8\n",
      "Enter the elements:76\n",
      "Enter the elements:56\n",
      "Enter the elements:45\n",
      "Enter the elements:23\n",
      "Enter the elements:22\n",
      "[45, 23]\n"
     ]
    }
   ],
   "source": [
    "l = []\n",
    "number = int(input(\"how many elements you want to insert on your list:\"))\n",
    "for n in range(number):\n",
    "    num = int(input(\"Enter the elements:\"))\n",
    "    l.append(num)\n",
    "l1 = []\n",
    "for i in range(len(l)):\n",
    "    if(l[i] % 2 != 0):\n",
    "        l1.append(l[i])\n",
    "        \n",
    "print(l1)"
   ]
  },
  {
   "cell_type": "markdown",
   "metadata": {},
   "source": [
    "### 9. Write a Python program to Remove empty List from List?"
   ]
  },
  {
   "cell_type": "code",
   "execution_count": 7,
   "metadata": {},
   "outputs": [
    {
     "name": "stdout",
     "output_type": "stream",
     "text": [
      "The original list is : [1, [], 2, 3, [], 4, 5, [], [], 9]\n",
      "List after empty list removal : [1, 2, 3, 4, 5, 9]\n"
     ]
    }
   ],
   "source": [
    "myList = [1, [], 2, 3, [], 4, 5, [], [], 9]\n",
    "\n",
    "print(\"The original list is : \" + str(myList))\n",
    "\n",
    "# Remove empty List from List\n",
    "result = [ele for ele in myList if ele != []]\n",
    "\n",
    "print (\"List after empty list removal : \" + str(result))"
   ]
  },
  {
   "cell_type": "markdown",
   "metadata": {},
   "source": [
    "### 10. Write a Python program to Cloning or Copying a list?"
   ]
  },
  {
   "cell_type": "code",
   "execution_count": 8,
   "metadata": {},
   "outputs": [
    {
     "name": "stdout",
     "output_type": "stream",
     "text": [
      "Original List: [4, 8, 2, 10, 15, 18]\n",
      "After Cloning: [4, 8, 2, 10, 15, 18]\n"
     ]
    }
   ],
   "source": [
    "def cloning(list1):\n",
    "    list2 = list1[:]\n",
    "    return list2\n",
    "\n",
    "list1 = [4, 8, 2, 10, 15, 18]\n",
    "list2 = cloning(list1)\n",
    "print(\"Original List:\", list1)\n",
    "print(\"After Cloning:\", list2)"
   ]
  },
  {
   "cell_type": "markdown",
   "metadata": {},
   "source": [
    "### 11. Write a Python program to Count occurrences of an element in a list?"
   ]
  },
  {
   "cell_type": "code",
   "execution_count": 15,
   "metadata": {},
   "outputs": [
    {
     "name": "stdout",
     "output_type": "stream",
     "text": [
      "8 has occurred 5 times\n"
     ]
    }
   ],
   "source": [
    "def countX(lst, x):\n",
    "    count = 0\n",
    "    for ele in lst:\n",
    "        if (ele == x):\n",
    "            count = count + 1\n",
    "    return count\n",
    " \n",
    "lst = [8, 6, 8, 10, 8, 20, 10, 8, 8]\n",
    "x = 8\n",
    "print('{} has occurred {} times'.format(x, countX(lst, x)))"
   ]
  },
  {
   "cell_type": "code",
   "execution_count": null,
   "metadata": {},
   "outputs": [],
   "source": []
  }
 ],
 "metadata": {
  "kernelspec": {
   "display_name": "Python 3",
   "language": "python",
   "name": "python3"
  },
  "language_info": {
   "codemirror_mode": {
    "name": "ipython",
    "version": 3
   },
   "file_extension": ".py",
   "mimetype": "text/x-python",
   "name": "python",
   "nbconvert_exporter": "python",
   "pygments_lexer": "ipython3",
   "version": "3.8.5"
  }
 },
 "nbformat": 4,
 "nbformat_minor": 4
}
